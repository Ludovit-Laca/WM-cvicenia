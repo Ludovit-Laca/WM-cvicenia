{
  "nbformat": 4,
  "nbformat_minor": 0,
  "metadata": {
    "colab": {
      "name": "cistenie_dat_III.ipynb",
      "provenance": []
    },
    "kernelspec": {
      "name": "python3",
      "display_name": "Python 3"
    }
  },
  "cells": [
    {
      "cell_type": "markdown",
      "metadata": {
        "id": "-imOsZES2YBz"
      },
      "source": [
        "0. Imports"
      ]
    },
    {
      "cell_type": "code",
      "metadata": {
        "id": "JiluiOuP2BKb"
      },
      "source": [
        "import pandas as pd"
      ],
      "execution_count": null,
      "outputs": []
    },
    {
      "cell_type": "markdown",
      "metadata": {
        "id": "1NUYq5g02bvB"
      },
      "source": [
        "1. Load csv"
      ]
    },
    {
      "cell_type": "code",
      "metadata": {
        "colab": {
          "base_uri": "https://localhost:8080/",
          "height": 597
        },
        "id": "GVswqLZ72Z8t",
        "outputId": "b539e66d-bc16-4578-9349-4282ac1c135e"
      },
      "source": [
        "csvFile = pd.read_csv('/content/drive/MyDrive/Škola/WM/cistenie_dat_III/log_jeden_den.csv', ';', usecols=range(1,10))\r\n",
        "csvFile"
      ],
      "execution_count": null,
      "outputs": [
        {
          "output_type": "execute_result",
          "data": {
            "text/html": [
              "<div>\n",
              "<style scoped>\n",
              "    .dataframe tbody tr th:only-of-type {\n",
              "        vertical-align: middle;\n",
              "    }\n",
              "\n",
              "    .dataframe tbody tr th {\n",
              "        vertical-align: top;\n",
              "    }\n",
              "\n",
              "    .dataframe thead th {\n",
              "        text-align: right;\n",
              "    }\n",
              "</style>\n",
              "<table border=\"1\" class=\"dataframe\">\n",
              "  <thead>\n",
              "    <tr style=\"text-align: right;\">\n",
              "      <th></th>\n",
              "      <th>ip</th>\n",
              "      <th>user</th>\n",
              "      <th>userid</th>\n",
              "      <th>datetime</th>\n",
              "      <th>url</th>\n",
              "      <th>req_code</th>\n",
              "      <th>bytes</th>\n",
              "      <th>referrer</th>\n",
              "      <th>useragent</th>\n",
              "    </tr>\n",
              "  </thead>\n",
              "  <tbody>\n",
              "    <tr>\n",
              "      <th>0</th>\n",
              "      <td>193.87.12.30</td>\n",
              "      <td>-</td>\n",
              "      <td>-</td>\n",
              "      <td>[19/Feb/2020:06:25:49 +0100]</td>\n",
              "      <td>GET / HTTP/1.1</td>\n",
              "      <td>200</td>\n",
              "      <td>20925</td>\n",
              "      <td>-</td>\n",
              "      <td>libwww-perl/6.08</td>\n",
              "    </tr>\n",
              "    <tr>\n",
              "      <th>1</th>\n",
              "      <td>23.100.232.233</td>\n",
              "      <td>-</td>\n",
              "      <td>-</td>\n",
              "      <td>[19/Feb/2020:06:25:49 +0100]</td>\n",
              "      <td>GET /media-a-marketing/dianie-na-univerzite/ka...</td>\n",
              "      <td>200</td>\n",
              "      <td>26802</td>\n",
              "      <td>-</td>\n",
              "      <td>Mozilla/5.0 (compatible; MSIE 9.0; Windows NT ...</td>\n",
              "    </tr>\n",
              "    <tr>\n",
              "      <th>2</th>\n",
              "      <td>193.87.12.30</td>\n",
              "      <td>-</td>\n",
              "      <td>-</td>\n",
              "      <td>[19/Feb/2020:06:25:46 +0100]</td>\n",
              "      <td>GET / HTTP/1.1</td>\n",
              "      <td>200</td>\n",
              "      <td>20925</td>\n",
              "      <td>-</td>\n",
              "      <td>libwww-perl/6.08</td>\n",
              "    </tr>\n",
              "    <tr>\n",
              "      <th>3</th>\n",
              "      <td>35.239.58.193</td>\n",
              "      <td>-</td>\n",
              "      <td>-</td>\n",
              "      <td>[19/Feb/2020:06:26:22 +0100]</td>\n",
              "      <td>GET /vyskum/o-vyskume/spickove-vedecke-timy HT...</td>\n",
              "      <td>200</td>\n",
              "      <td>25235</td>\n",
              "      <td>-</td>\n",
              "      <td>ltx71 - (http://ltx71.com/)</td>\n",
              "    </tr>\n",
              "    <tr>\n",
              "      <th>4</th>\n",
              "      <td>46.229.168.140</td>\n",
              "      <td>-</td>\n",
              "      <td>-</td>\n",
              "      <td>[19/Feb/2020:06:26:45 +0100]</td>\n",
              "      <td>GET /organizacia-studia/preukaz-studenta/vyhod...</td>\n",
              "      <td>302</td>\n",
              "      <td>4115</td>\n",
              "      <td>-</td>\n",
              "      <td>Mozilla/5.0 (compatible; SemrushBot/6~bl; +htt...</td>\n",
              "    </tr>\n",
              "    <tr>\n",
              "      <th>...</th>\n",
              "      <td>...</td>\n",
              "      <td>...</td>\n",
              "      <td>...</td>\n",
              "      <td>...</td>\n",
              "      <td>...</td>\n",
              "      <td>...</td>\n",
              "      <td>...</td>\n",
              "      <td>...</td>\n",
              "      <td>...</td>\n",
              "    </tr>\n",
              "    <tr>\n",
              "      <th>30217</th>\n",
              "      <td>46.229.168.147</td>\n",
              "      <td>-</td>\n",
              "      <td>-</td>\n",
              "      <td>[20/Feb/2020:06:24:49 +0100]</td>\n",
              "      <td>GET /en/public-relations/news/photo-gallery/im...</td>\n",
              "      <td>200</td>\n",
              "      <td>691257</td>\n",
              "      <td>-</td>\n",
              "      <td>Mozilla/5.0 (compatible; SemrushBot/6~bl; +htt...</td>\n",
              "    </tr>\n",
              "    <tr>\n",
              "      <th>30218</th>\n",
              "      <td>193.87.12.45</td>\n",
              "      <td>-</td>\n",
              "      <td>-</td>\n",
              "      <td>[20/Feb/2020:06:25:15 +0100]</td>\n",
              "      <td>GET / HTTP/1.1</td>\n",
              "      <td>200</td>\n",
              "      <td>152449</td>\n",
              "      <td>-</td>\n",
              "      <td>Wget/1.13.4 (linux-gnu)</td>\n",
              "    </tr>\n",
              "    <tr>\n",
              "      <th>30219</th>\n",
              "      <td>46.229.168.150</td>\n",
              "      <td>-</td>\n",
              "      <td>-</td>\n",
              "      <td>[20/Feb/2020:06:25:26 +0100]</td>\n",
              "      <td>GET /en/public-relations/news/photo-gallery/im...</td>\n",
              "      <td>200</td>\n",
              "      <td>108320</td>\n",
              "      <td>-</td>\n",
              "      <td>Mozilla/5.0 (compatible; SemrushBot/6~bl; +htt...</td>\n",
              "    </tr>\n",
              "    <tr>\n",
              "      <th>30220</th>\n",
              "      <td>193.87.12.30</td>\n",
              "      <td>-</td>\n",
              "      <td>-</td>\n",
              "      <td>[20/Feb/2020:06:25:28 +0100]</td>\n",
              "      <td>GET / HTTP/1.1</td>\n",
              "      <td>200</td>\n",
              "      <td>152207</td>\n",
              "      <td>-</td>\n",
              "      <td>libwww-perl/6.08</td>\n",
              "    </tr>\n",
              "    <tr>\n",
              "      <th>30221</th>\n",
              "      <td>193.87.12.30</td>\n",
              "      <td>-</td>\n",
              "      <td>-</td>\n",
              "      <td>[20/Feb/2020:06:25:29 +0100]</td>\n",
              "      <td>GET / HTTP/1.1</td>\n",
              "      <td>200</td>\n",
              "      <td>152191</td>\n",
              "      <td>-</td>\n",
              "      <td>libwww-perl/6.08</td>\n",
              "    </tr>\n",
              "  </tbody>\n",
              "</table>\n",
              "<p>30222 rows × 9 columns</p>\n",
              "</div>"
            ],
            "text/plain": [
              "                   ip  ...                                          useragent\n",
              "0        193.87.12.30  ...                                   libwww-perl/6.08\n",
              "1      23.100.232.233  ...  Mozilla/5.0 (compatible; MSIE 9.0; Windows NT ...\n",
              "2        193.87.12.30  ...                                   libwww-perl/6.08\n",
              "3       35.239.58.193  ...                        ltx71 - (http://ltx71.com/)\n",
              "4      46.229.168.140  ...  Mozilla/5.0 (compatible; SemrushBot/6~bl; +htt...\n",
              "...               ...  ...                                                ...\n",
              "30217  46.229.168.147  ...  Mozilla/5.0 (compatible; SemrushBot/6~bl; +htt...\n",
              "30218    193.87.12.45  ...                            Wget/1.13.4 (linux-gnu)\n",
              "30219  46.229.168.150  ...  Mozilla/5.0 (compatible; SemrushBot/6~bl; +htt...\n",
              "30220    193.87.12.30  ...                                   libwww-perl/6.08\n",
              "30221    193.87.12.30  ...                                   libwww-perl/6.08\n",
              "\n",
              "[30222 rows x 9 columns]"
            ]
          },
          "metadata": {
            "tags": []
          },
          "execution_count": 2
        }
      ]
    },
    {
      "cell_type": "markdown",
      "metadata": {
        "id": "a5-GGPwX2tii"
      },
      "source": [
        "2. Get robots ips"
      ]
    },
    {
      "cell_type": "code",
      "metadata": {
        "colab": {
          "base_uri": "https://localhost:8080/"
        },
        "id": "Oy9juRGi2x5G",
        "outputId": "1a579713-5d1e-4532-9e48-13b83a79f69e"
      },
      "source": [
        "ipArray = csvFile[csvFile.url.str.contains('robots.txt')]['ip'].unique()\r\n",
        "print(\"Size: \" + str(ipArray.size))\r\n",
        "print(ipArray)"
      ],
      "execution_count": null,
      "outputs": [
        {
          "output_type": "stream",
          "text": [
            "Size: 108\n",
            "['95.108.213.51' '46.229.168.163' '46.229.168.146' '66.240.192.138'\n",
            " '199.47.87.143' '46.229.168.137' '103.131.71.128' '103.131.71.135'\n",
            " '13.66.139.1' '77.75.77.95' '46.229.168.139' '66.249.76.10' '77.75.73.26'\n",
            " '46.229.168.148' '46.229.168.129' '141.8.183.215' '77.75.78.167'\n",
            " '46.229.168.136' '46.229.168.144' '77.75.77.62' '136.243.70.68'\n",
            " '46.229.168.150' '35.239.58.193' '87.250.224.88' '46.229.168.162'\n",
            " '46.229.168.161' '77.75.76.166' '46.229.168.152' '46.229.168.145'\n",
            " '188.165.235.21' '77.75.79.109' '46.229.168.154' '54.36.148.19'\n",
            " '46.229.168.131' '94.130.238.229' '37.9.169.7' '157.55.39.20'\n",
            " '46.229.168.135' '157.55.39.86' '47.108.80.103' '17.58.102.1'\n",
            " '157.55.39.223' '157.55.39.0' '85.208.96.67' '46.229.168.140'\n",
            " '77.75.77.32' '54.36.149.106' '46.229.168.151' '199.58.86.209'\n",
            " '46.229.168.141' '5.196.87.175' '46.229.168.153' '199.58.86.211'\n",
            " '46.229.168.142' '212.150.211.166' '46.229.168.147' '185.25.35.14'\n",
            " '46.229.168.149' '46.229.161.131' '13.52.221.38' '199.47.87.142'\n",
            " '46.229.168.130' '162.210.196.129' '46.229.168.132' '216.244.66.247'\n",
            " '162.210.196.100' '220.243.136.250' '46.229.168.133' '77.75.78.161'\n",
            " '144.76.96.236' '103.131.71.40' '54.36.148.128' '46.229.168.134'\n",
            " '54.80.78.185' '108.59.8.70' '144.76.38.40' '95.163.255.223'\n",
            " '54.224.19.135' '77.75.76.165' '91.121.183.15' '46.229.168.138'\n",
            " '95.163.255.244' '5.9.66.153' '5.9.156.30' '162.210.196.130'\n",
            " '66.249.76.130' '54.36.148.214' '157.55.39.43' '77.75.76.171'\n",
            " '95.163.255.204' '95.163.255.242' '162.210.196.98' '77.75.78.160'\n",
            " '46.229.168.143' '62.210.151.70' '144.76.23.232' '220.243.136.26'\n",
            " '79.137.130.151' '95.163.255.201' '207.46.13.236' '35.196.62.179'\n",
            " '77.75.78.172' '199.58.86.206' '88.198.33.145' '178.151.245.174'\n",
            " '77.75.76.160' '95.163.255.213' '192.99.13.228']\n"
          ],
          "name": "stdout"
        }
      ]
    }
  ]
}