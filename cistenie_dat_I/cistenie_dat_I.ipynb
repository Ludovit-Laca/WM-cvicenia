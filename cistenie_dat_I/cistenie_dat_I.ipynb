{
  "nbformat": 4,
  "nbformat_minor": 0,
  "metadata": {
    "colab": {
      "name": "cistenie_dat_I.ipynb",
      "provenance": [],
      "collapsed_sections": []
    },
    "kernelspec": {
      "name": "python3",
      "display_name": "Python 3"
    }
  },
  "cells": [
    {
      "cell_type": "markdown",
      "metadata": {
        "id": "aN0AHPqr4ftB"
      },
      "source": [
        "0. Imports"
      ]
    },
    {
      "cell_type": "code",
      "metadata": {
        "id": "FnYmLuA04MYw"
      },
      "source": [
        "import pandas as pd"
      ],
      "execution_count": null,
      "outputs": []
    },
    {
      "cell_type": "markdown",
      "metadata": {
        "id": "-UdyfIVH4pQc"
      },
      "source": [
        "1. Load csv"
      ]
    },
    {
      "cell_type": "code",
      "metadata": {
        "colab": {
          "base_uri": "https://localhost:8080/",
          "height": 597
        },
        "id": "j3kNeP3O4nD2",
        "outputId": "3542947d-3994-4a43-e94c-6c081c0bfe43"
      },
      "source": [
        "csvFile = pd.read_csv('/content/drive/MyDrive/Škola/WM/cistenie_dat_I/log_jeden_den.csv', ';')\r\n",
        "csvFile"
      ],
      "execution_count": null,
      "outputs": [
        {
          "output_type": "execute_result",
          "data": {
            "text/html": [
              "<div>\n",
              "<style scoped>\n",
              "    .dataframe tbody tr th:only-of-type {\n",
              "        vertical-align: middle;\n",
              "    }\n",
              "\n",
              "    .dataframe tbody tr th {\n",
              "        vertical-align: top;\n",
              "    }\n",
              "\n",
              "    .dataframe thead th {\n",
              "        text-align: right;\n",
              "    }\n",
              "</style>\n",
              "<table border=\"1\" class=\"dataframe\">\n",
              "  <thead>\n",
              "    <tr style=\"text-align: right;\">\n",
              "      <th></th>\n",
              "      <th>ip</th>\n",
              "      <th>user</th>\n",
              "      <th>userid</th>\n",
              "      <th>datetime</th>\n",
              "      <th>url</th>\n",
              "      <th>req_code</th>\n",
              "      <th>bytes</th>\n",
              "      <th>referrer</th>\n",
              "      <th>useragent</th>\n",
              "    </tr>\n",
              "  </thead>\n",
              "  <tbody>\n",
              "    <tr>\n",
              "      <th>0</th>\n",
              "      <td>193.87.12.30</td>\n",
              "      <td>-</td>\n",
              "      <td>-</td>\n",
              "      <td>[19/Feb/2020:06:25:50 +0100]</td>\n",
              "      <td>GET /navbar/navbar-ukf.html HTTP/1.0</td>\n",
              "      <td>200</td>\n",
              "      <td>7584</td>\n",
              "      <td>-</td>\n",
              "      <td>-</td>\n",
              "    </tr>\n",
              "    <tr>\n",
              "      <th>1</th>\n",
              "      <td>193.87.12.30</td>\n",
              "      <td>-</td>\n",
              "      <td>-</td>\n",
              "      <td>[19/Feb/2020:06:25:55 +0100]</td>\n",
              "      <td>GET /navbar/navbar-ukf.html HTTP/1.0</td>\n",
              "      <td>200</td>\n",
              "      <td>7584</td>\n",
              "      <td>-</td>\n",
              "      <td>-</td>\n",
              "    </tr>\n",
              "    <tr>\n",
              "      <th>2</th>\n",
              "      <td>193.87.12.30</td>\n",
              "      <td>-</td>\n",
              "      <td>-</td>\n",
              "      <td>[19/Feb/2020:06:25:56 +0100]</td>\n",
              "      <td>GET /navbar/navbar-ukf.html HTTP/1.0</td>\n",
              "      <td>200</td>\n",
              "      <td>7584</td>\n",
              "      <td>-</td>\n",
              "      <td>-</td>\n",
              "    </tr>\n",
              "    <tr>\n",
              "      <th>3</th>\n",
              "      <td>193.87.12.30</td>\n",
              "      <td>-</td>\n",
              "      <td>-</td>\n",
              "      <td>[19/Feb/2020:06:25:57 +0100]</td>\n",
              "      <td>GET /navbar/navbar-ukf.html HTTP/1.0</td>\n",
              "      <td>200</td>\n",
              "      <td>7584</td>\n",
              "      <td>-</td>\n",
              "      <td>-</td>\n",
              "    </tr>\n",
              "    <tr>\n",
              "      <th>4</th>\n",
              "      <td>193.87.12.30</td>\n",
              "      <td>-</td>\n",
              "      <td>-</td>\n",
              "      <td>[19/Feb/2020:06:25:49 +0100]</td>\n",
              "      <td>GET / HTTP/1.1</td>\n",
              "      <td>200</td>\n",
              "      <td>20925</td>\n",
              "      <td>-</td>\n",
              "      <td>libwww-perl/6.08</td>\n",
              "    </tr>\n",
              "    <tr>\n",
              "      <th>...</th>\n",
              "      <td>...</td>\n",
              "      <td>...</td>\n",
              "      <td>...</td>\n",
              "      <td>...</td>\n",
              "      <td>...</td>\n",
              "      <td>...</td>\n",
              "      <td>...</td>\n",
              "      <td>...</td>\n",
              "      <td>...</td>\n",
              "    </tr>\n",
              "    <tr>\n",
              "      <th>257122</th>\n",
              "      <td>193.87.12.30</td>\n",
              "      <td>-</td>\n",
              "      <td>-</td>\n",
              "      <td>[20/Feb/2020:06:25:27 +0100]</td>\n",
              "      <td>GET /navbar/navbar-ukf.html HTTP/1.0</td>\n",
              "      <td>200</td>\n",
              "      <td>7584</td>\n",
              "      <td>-</td>\n",
              "      <td>-</td>\n",
              "    </tr>\n",
              "    <tr>\n",
              "      <th>257123</th>\n",
              "      <td>193.87.12.30</td>\n",
              "      <td>-</td>\n",
              "      <td>-</td>\n",
              "      <td>[20/Feb/2020:06:25:28 +0100]</td>\n",
              "      <td>GET / HTTP/1.1</td>\n",
              "      <td>200</td>\n",
              "      <td>152207</td>\n",
              "      <td>-</td>\n",
              "      <td>libwww-perl/6.08</td>\n",
              "    </tr>\n",
              "    <tr>\n",
              "      <th>257124</th>\n",
              "      <td>193.87.12.30</td>\n",
              "      <td>-</td>\n",
              "      <td>-</td>\n",
              "      <td>[20/Feb/2020:06:25:29 +0100]</td>\n",
              "      <td>GET / HTTP/1.1</td>\n",
              "      <td>200</td>\n",
              "      <td>152191</td>\n",
              "      <td>-</td>\n",
              "      <td>libwww-perl/6.08</td>\n",
              "    </tr>\n",
              "    <tr>\n",
              "      <th>257125</th>\n",
              "      <td>193.87.12.30</td>\n",
              "      <td>-</td>\n",
              "      <td>-</td>\n",
              "      <td>[20/Feb/2020:06:25:35 +0100]</td>\n",
              "      <td>GET /navbar/navbar-ukf.html HTTP/1.0</td>\n",
              "      <td>200</td>\n",
              "      <td>7584</td>\n",
              "      <td>-</td>\n",
              "      <td>-</td>\n",
              "    </tr>\n",
              "    <tr>\n",
              "      <th>257126</th>\n",
              "      <td>193.87.12.30</td>\n",
              "      <td>-</td>\n",
              "      <td>-</td>\n",
              "      <td>[20/Feb/2020:06:25:35 +0100]</td>\n",
              "      <td>GET /navbar/navbar-ukf.html HTTP/1.0</td>\n",
              "      <td>200</td>\n",
              "      <td>7584</td>\n",
              "      <td>-</td>\n",
              "      <td>-</td>\n",
              "    </tr>\n",
              "  </tbody>\n",
              "</table>\n",
              "<p>257127 rows × 9 columns</p>\n",
              "</div>"
            ],
            "text/plain": [
              "                  ip user userid  ...   bytes referrer         useragent\n",
              "0       193.87.12.30    -      -  ...    7584        -                 -\n",
              "1       193.87.12.30    -      -  ...    7584        -                 -\n",
              "2       193.87.12.30    -      -  ...    7584        -                 -\n",
              "3       193.87.12.30    -      -  ...    7584        -                 -\n",
              "4       193.87.12.30    -      -  ...   20925        -  libwww-perl/6.08\n",
              "...              ...  ...    ...  ...     ...      ...               ...\n",
              "257122  193.87.12.30    -      -  ...    7584        -                 -\n",
              "257123  193.87.12.30    -      -  ...  152207        -  libwww-perl/6.08\n",
              "257124  193.87.12.30    -      -  ...  152191        -  libwww-perl/6.08\n",
              "257125  193.87.12.30    -      -  ...    7584        -                 -\n",
              "257126  193.87.12.30    -      -  ...    7584        -                 -\n",
              "\n",
              "[257127 rows x 9 columns]"
            ]
          },
          "metadata": {
            "tags": []
          },
          "execution_count": 2
        }
      ]
    },
    {
      "cell_type": "markdown",
      "metadata": {
        "id": "IIc7Nnio_gcS"
      },
      "source": [
        "2. Arrays"
      ]
    },
    {
      "cell_type": "code",
      "metadata": {
        "id": "22Lpcpf45EoK"
      },
      "source": [
        "request = ['HEAD', 'POST']\r\n",
        "suffix = ['.bmp','.jpg','.jpeg','.png','.gif','.JPG','.css','.flv','.ico','.swf','.rss','.xml','.cur','.js','.json','.svg','.svg','.woff','.eot']"
      ],
      "execution_count": null,
      "outputs": []
    },
    {
      "cell_type": "markdown",
      "metadata": {
        "id": "XJU0LhtY_kk9"
      },
      "source": [
        "3. Check dataframe"
      ]
    },
    {
      "cell_type": "code",
      "metadata": {
        "id": "09PWdZxi_o8b"
      },
      "source": [
        "csvFile = csvFile[~csvFile.url.str.contains('|'.join(suffix))]\r\n",
        "csvFile = csvFile[~csvFile.req_code.astype(str).str.match(r'1* | 4* | 5* ')]\r\n",
        "csvFile = csvFile[~csvFile.url.str.contains('|'.join(request))]"
      ],
      "execution_count": null,
      "outputs": []
    },
    {
      "cell_type": "markdown",
      "metadata": {
        "id": "fRALNLKGAibU"
      },
      "source": [
        "4. Save to csv"
      ]
    },
    {
      "cell_type": "code",
      "metadata": {
        "id": "Hp1F2bQCAj_v"
      },
      "source": [
        "csvFile.to_csv('Laca_cistenie_dat_I.csv', sep=';')"
      ],
      "execution_count": null,
      "outputs": []
    }
  ]
}